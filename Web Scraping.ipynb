{
 "cells": [
  {
   "cell_type": "markdown",
   "id": "647e2e45-47c4-4aa4-b217-c0fa9281a768",
   "metadata": {},
   "source": [
    "# Web Scraping\n",
    "The main aim of this study was to investigate the language used in a novel using the tools available from [__BeautifulSoup__](https://www.crummy.com/software/BeautifulSoup/) and [__NLTK__](https://www.nltk.org/). Additionally, data visualisation was prepared by means of [__Matplotlib__](https://matplotlib.org/).\n",
    "\n",
    "## 1. Data collection\n",
    "The novel chosen for the purpose of this research is titled _Anne of Green Gables_ by Lucy Maud Montgomery. Data was accessed through [_Project Gutenberg_](https://www.gutenberg.org/), an online library containing free eBooks."
   ]
  },
  {
   "cell_type": "code",
   "execution_count": 3,
   "id": "8460ab1f-3118-43e4-a870-f1bb7a3cb090",
   "metadata": {},
   "outputs": [],
   "source": [
    "import requests\n",
    "page = requests.get('https://www.gutenberg.org/files/45/45-h/45-h.htm')"
   ]
  },
  {
   "cell_type": "markdown",
   "id": "c50cbba8-5fd1-4a7a-94df-6aec32143d1a",
   "metadata": {},
   "source": [
    "## 2. Data preparation\n",
    "The next step was cleaning the data and preparing it for further analysis. First, __BeautifulSoup__ was used to divide the text into paragraphs using __the HTML parser__ available in the package. On top of, unnecessary new lines were removed. An example of such transformation performed on the first paragraph may be seen below."
   ]
  },
  {
   "cell_type": "code",
   "execution_count": 9,
   "id": "323c6a6c-5fb5-4d86-8aa4-311d48c81d3a",
   "metadata": {},
   "outputs": [
    {
     "name": "stdout",
     "output_type": "stream",
     "text": [
      "<p class=\"pfirst\">\n",
      "<span class=\"dropcap\" style=\"font-size: 4.00em\">M</span>RS. Rachel Lynde lived\n",
      "just where the Avonlea main road dipped down into a little hollow, fringed with\n",
      "alders and ladies’ eardrops and traversed by a brook that had its source\n",
      "away back in the woods of the old Cuthbert place; it was reputed to be an\n",
      "intricate, headlong brook in its earlier course through those woods, with dark\n",
      "secrets of pool and cascade; but by the time it reached Lynde’s Hollow it\n",
      "was a quiet, well-conducted little stream, for not even a brook could run past\n",
      "Mrs. Rachel Lynde’s door without due regard for decency and decorum; it\n",
      "probably was conscious that Mrs. Rachel was sitting at her window, keeping a\n",
      "sharp eye on everything that passed, from brooks and children up, and that if\n",
      "she noticed anything odd or out of place she would never rest until she had\n",
      "ferreted out the whys and wherefores thereof.\n",
      "</p>\n"
     ]
    }
   ],
   "source": [
    "from bs4 import BeautifulSoup\n",
    "content = BeautifulSoup(page.content, 'html.parser')\n",
    "paragraphs = content.find_all('p')\n",
    "print(paragraphs[0])"
   ]
  },
  {
   "cell_type": "code",
   "execution_count": 48,
   "id": "b16dee3f-f54d-42e8-97b7-f142c4712cbf",
   "metadata": {},
   "outputs": [
    {
     "name": "stdout",
     "output_type": "stream",
     "text": [
      "MRS. Rachel Lynde lived just where the Avonlea main road dipped down into a little hollow, fringed with alders and ladies’ eardrops and traversed by a brook that had its source away back in the woods of the old Cuthbert place; it was reputed to be an intricate, headlong brook in its earlier course through those woods, with dark secrets of pool and cascade; but by the time it reached Lynde’s Hollow it was a quiet, well-conducted little stream, for not even a brook could run past Mrs. Rachel Lynde’s door without due regard for decency and decorum; it probably was conscious that Mrs. Rachel was sitting at her window, keeping a sharp eye on everything that passed, from brooks and children up, and that if she noticed anything odd or out of place she would never rest until she had ferreted out the whys and wherefores thereof.\n"
     ]
    }
   ],
   "source": [
    "text = []\n",
    "for item in paragraphs:\n",
    "    processed = item.get_text()\n",
    "    processed = processed.strip()\n",
    "    processed = processed.replace('\\r\\n',' ')\n",
    "    text.append(processed)\n",
    "print(text[0])"
   ]
  },
  {
   "cell_type": "markdown",
   "id": "1700c42e-7117-42c8-8782-ca1f90896b98",
   "metadata": {},
   "source": [
    "Then, __NLTK__ module was used to tokenize the sentences and label the words depending on the part of speech they belong to. Punctuation marks were excluded. The access to the full list of part-of-speech tags is provided by the [__Penn Treebank website__](https://www.ling.upenn.edu/courses/Fall_2003/ling001/penn_treebank_pos.html). Two lists were created - the first one contains all the tokens and the second one contains POS tagged tokens."
   ]
  },
  {
   "cell_type": "code",
   "execution_count": 126,
   "id": "30ae5965-452d-485c-83c0-813a54ff76f5",
   "metadata": {},
   "outputs": [
    {
     "name": "stdout",
     "output_type": "stream",
     "text": [
      "[('MRS.', 'NNP'), ('Rachel', 'NNP'), ('Lynde', 'NNP'), ('lived', 'VBD'), ('just', 'RB'), ('where', 'WRB'), ('the', 'DT'), ('Avonlea', 'NNP'), ('main', 'JJ'), ('road', 'NN'), ('dipped', 'VBD'), ('down', 'RB'), ('into', 'IN'), ('a', 'DT'), ('little', 'JJ'), ('hollow', 'NN'), ('fringed', 'VBN'), ('with', 'IN'), ('alders', 'NNS'), ('and', 'CC'), ('ladies', 'NNS'), ('’', 'NNP'), ('eardrops', 'NNS'), ('and', 'CC'), ('traversed', 'VBN'), ('by', 'IN'), ('a', 'DT'), ('brook', 'NN'), ('that', 'WDT'), ('had', 'VBD')]\n"
     ]
    }
   ],
   "source": [
    "import nltk\n",
    "\n",
    "text_tokens=[]\n",
    "text_tt = []\n",
    "punctuation = [',',':','.',\"''\",'’','“','”','?','!']\n",
    "for sentence in text:\n",
    "    tokenized = nltk.word_tokenize(sentence)\n",
    "    for item in tokenized:\n",
    "        if item in punctuation:\n",
    "            pass\n",
    "        else:\n",
    "            text_tokens.append(item)\n",
    "    tagged = nltk.pos_tag(tokenized)\n",
    "    for item in tagged:\n",
    "        if item[1] in punctuation:\n",
    "            pass\n",
    "        else:\n",
    "            text_tt.append(item)\n",
    "print(text_tt[:30]) "
   ]
  },
  {
   "cell_type": "markdown",
   "id": "66cd4270-7949-447e-93e0-ca864adc8b75",
   "metadata": {},
   "source": [
    "The next step was preparing a Python dictionary in order to calculate the number of occurrences of each tag."
   ]
  },
  {
   "cell_type": "code",
   "execution_count": 127,
   "id": "1bfb147d-2c1a-4c50-ac42-27b1627b13e2",
   "metadata": {},
   "outputs": [
    {
     "name": "stdout",
     "output_type": "stream",
     "text": [
      "NNP: 9032\n",
      "VBD: 7635\n",
      "RB: 7359\n",
      "WRB: 765\n",
      "DT: 8058\n",
      "JJ: 8718\n",
      "NN: 15770\n",
      "IN: 11218\n",
      "VBN: 2100\n",
      "NNS: 3445\n",
      "CC: 4403\n",
      "WDT: 286\n",
      "PRP$: 2171\n",
      "PRP: 11108\n",
      "TO: 3025\n",
      "VB: 5434\n",
      "JJR: 268\n",
      "MD: 1492\n",
      "VBG: 1970\n",
      "RP: 829\n",
      "VBZ: 1796\n",
      "EX: 319\n",
      "VBP: 4019\n",
      "WP: 510\n",
      "CD: 454\n",
      "JJS: 194\n",
      "PDT: 215\n",
      "RBR: 123\n",
      "FW: 65\n",
      "UH: 189\n",
      "NNPS: 35\n",
      "RBS: 44\n",
      "WP$: 10\n",
      "POS: 3\n"
     ]
    }
   ],
   "source": [
    "count = {}\n",
    "for item in text_tt:\n",
    "    if item[1] not in count:\n",
    "        count[item[1]] = 1\n",
    "    else:\n",
    "        count[item[1]] += 1\n",
    "\n",
    "for item in count:\n",
    "     print(f'{item}: {count[item]}')"
   ]
  },
  {
   "cell_type": "markdown",
   "id": "940c3c86-4149-4500-96c2-70d6ff7843cc",
   "metadata": {},
   "source": [
    "Furthermore, the data may be visualised using Matplotlib."
   ]
  },
  {
   "cell_type": "code",
   "execution_count": 128,
   "id": "a6126e9b-9617-4b78-875c-0201b79fb716",
   "metadata": {},
   "outputs": [
    {
     "data": {
      "image/png": "[encoded data removed]",
      "text/plain": [
       "<Figure size 432x288 with 1 Axes>"
      ]
     },
     "metadata": {
      "needs_background": "light"
     },
     "output_type": "display_data"
    }
   ],
   "source": [
    "import matplotlib.pyplot as m\n",
    "m.bar(count.keys(), count.values(), color='orange')\n",
    "m.xlabel('POS tag', size=20)\n",
    "m.ylabel('Number of occurences', size=20)\n",
    "m.show()"
   ]
  },
  {
   "cell_type": "markdown",
   "id": "258439c2-0b58-45f4-a195-7970e6bd29dd",
   "metadata": {},
   "source": [
    "What is more, tokenized texts may be analysed in terms of frequency distribution of specific words. The code below displays 15 most frequent words, as well as the number of times the words _beautiful_, _pretty_ and _smile_ appeared."
   ]
  },
  {
   "cell_type": "code",
   "execution_count": 144,
   "id": "3e52a095-1a20-4ab5-86bc-787f89d352c5",
   "metadata": {},
   "outputs": [
    {
     "name": "stdout",
     "output_type": "stream",
     "text": [
      "[('the', 3656), ('I', 3201), ('and', 3102), ('to', 3005), ('a', 2135), ('of', 1859), ('it', 1672), ('you', 1444), ('in', 1428), ('was', 1359), ('her', 1265), ('that', 1241), ('she', 1185), ('t', 1183), ('Anne', 1171)]\n",
      "The number of occurences of the word \"beautiful\": 44\n",
      "The number of occurences of the word \"pretty\": 82\n",
      "The number of occurences of the word \"smile\": 17\n"
     ]
    }
   ],
   "source": [
    "frequency = nltk.FreqDist(text_tokens)\n",
    "\n",
    "print(frequency.most_common(15))\n",
    "\n",
    "print(f'The number of occurences of the word \"beautiful\": {text_tokens.count(\"beautiful\")}')\n",
    "print(f'The number of occurences of the word \"pretty\": {text_tokens.count(\"pretty\")}')\n",
    "print(f'The number of occurences of the word \"smile\": {text_tokens.count(\"smile\")}')"
   ]
  },
  {
   "cell_type": "code",
   "execution_count": 143,
   "id": "fb689a1d-e9a9-4f11-b126-4a0b5a411cc6",
   "metadata": {},
   "outputs": [
    {
     "data": {
      "image/png": "[encoded data removed]",
      "text/plain": [
       "<Figure size 432x288 with 1 Axes>"
      ]
     },
     "metadata": {
      "needs_background": "light"
     },
     "output_type": "display_data"
    }
   ],
   "source": [
    "frequency.plot(15, cumulative=False)\n",
    "m.show()"
   ]
  },
  {
   "cell_type": "markdown",
   "id": "28c79cc9-60af-4fd6-a013-840dda153aff",
   "metadata": {},
   "source": [
    "## 3. Data analysis\n",
    "The examination of the data presented above allows to draw various conclusions, for instance:\n",
    "* Singular and mass nouns (NN) appear the most often in _Anne of Green Gables_.\n",
    "* Adjectives (JJ) occur approximately half as often as singular and mass nouns.\n",
    "* There is 65 foreign words (FW) in the book.\n",
    "* The name of the main character, _Anne_, appeared 1171 times in the whole book.\n",
    "* The word _pretty_ appeared approximately twice as often as the word _beautiful_.\n",
    "\n",
    "### Conclusion\n",
    "This project was undertaken to demonstrate the possibilities provided by modern technology. It becomes apparent that the application of open-source NLP tools and resources facilitates linguistic analysis.\n",
    "\n",
    "The code presented above may be used to perform an analogous analysis on a different book available on _Project Gutenberg_."
   ]
  }
 ],
 "metadata": {
  "kernelspec": {
   "display_name": "Python 3 (ipykernel)",
   "language": "python",
   "name": "python3"
  },
  "language_info": {
   "codemirror_mode": {
    "name": "ipython",
    "version": 3
   },
   "file_extension": ".py",
   "mimetype": "text/x-python",
   "name": "python",
   "nbconvert_exporter": "python",
   "pygments_lexer": "ipython3",
   "version": "3.10.4"
  }
 },
 "nbformat": 4,
 "nbformat_minor": 5
}
